{
 "cells": [
  {
   "cell_type": "markdown",
   "metadata": {
    "deletable": false,
    "editable": false
   },
   "source": [
    "# Run the cell below to see the examples\n",
    "<img src=\"assets/run-this.gif\" style=\"height:80px; margin-left:0;\"/>"
   ]
  },
  {
   "cell_type": "code",
   "execution_count": 1,
   "metadata": {
    "deletable": false,
    "editable": false,
    "scrolled": false
   },
   "outputs": [
    {
     "data": {
      "text/html": [
       "<style>\n",
       "a.big-jupyter-button, button.jupyter-button\n",
       "{\n",
       "    line-height:40px;\n",
       "    height:40px;\n",
       "    display:inline-block;\n",
       "    background-color:#0071c5;\n",
       "    color:white;\n",
       "    border:none;\n",
       "    font-size:100%;\n",
       "    font-weight:bold;\n",
       "    cursor:pointer;\n",
       "    padding-left:1em;\n",
       "    padding-right:1em;\n",
       "    margin-top:10px;\n",
       "    text-decoration:none !important;\n",
       "}\n",
       "a.big-jupyter-button:hover\n",
       "{\n",
       "    -webkit-box-shadow: 0 2px 2px 0 rgba(0, 0, 0, .14), 0 3px 1px -2px rgba(0, 0, 0, .2), 0 1px 5px 0 rgba(0, 0, 0, .12);\n",
       "\n",
       "    box-shadow: 0 2px 2px 0 rgba(0, 0, 0, .14), 0 3px 1px -2px rgba(0, 0, 0, .2), 0 1px 5px 0 rgba(0, 0, 0, .12);\n",
       "}\n",
       "div.ahead > div.p-Collapse > div.p-Collapse-header\n",
       "{\n",
       "    background-color:#8800aa;\n",
       "    color:white;\n",
       "}\n",
       "div.behind > div.p-Collapse > div.p-Collapse-header\n",
       "{\n",
       "    background-color:#ffaa00;\n",
       "    color:white;\n",
       "}\n",
       "div.unable > div.p-Collapse > div.p-Collapse-header\n",
       "{\n",
       "    background-color:#cc0000;\n",
       "    color:white;\n",
       "}\n",
       "div.uptodate > div.p-Collapse > div.p-Collapse-header\n",
       "{\n",
       "    background-color:#008800;\n",
       "    color:white;\n",
       "}\n",
       ".rendered_html h2, .rendered_html h2:first-child, .rendered_html h3\n",
       "{\n",
       "    margin-top:3em;\n",
       "}\n",
       "\n",
       "\n",
       "</style>\n"
      ],
      "text/plain": [
       "<IPython.core.display.HTML object>"
      ]
     },
     "metadata": {},
     "output_type": "display_data"
    },
    {
     "data": {
      "application/vnd.jupyter.widget-view+json": {
       "model_id": "c78377492dd24d319906ce2e0b3ada8e",
       "version_major": 2,
       "version_minor": 0
      },
      "text/plain": [
       "Accordion(children=(VBox(children=(Button(description='Refresh Catalog', style=ButtonStyle()), HTML(value='Upo…"
      ]
     },
     "metadata": {},
     "output_type": "display_data"
    },
    {
     "data": {
      "text/markdown": [
       "## List of IoT examples for Intel® Distribution of the OpenVINO™ in Python\n",
       "### Tutorial: Classification\n",
       "\n",
       "This step by step tutorial demonstrates how to use Intel® Distribution of OpenVINO™ toolkit for image classification.\n",
       "  \n",
       "<a href='Tutorials/classification/tutorial_classification_sample.ipynb' target='_blank' class='big-jupyter-button'>Go to Lab: Tutorials/classification/tutorial_classification_sample.ipynb</a>\n",
       "### Tutorial: Object Detection\n",
       "\n",
       "This step by step tutorial demonstrates how to use Intel® Distribution of OpenVINO™ toolkit for object detection.\n",
       "  \n",
       "<a href='Tutorials/object_detection/tutorial_object_detection_ssd.ipynb' target='_blank' class='big-jupyter-button'>Go to Lab: Tutorials/object_detection/tutorial_object_detection_ssd.ipynb</a>\n",
       "### Tutorial: Style Transfer\n",
       "\n",
       "This step by step tutorial demonstrates how to use Intel® Distribution of OpenVINO™ toolkit for style transfer.\n",
       "\n",
       "  \n",
       "<a href='Tutorials/style_transfer/tutorial_style_transfer_sample.ipynb' target='_blank' class='big-jupyter-button'>Go to Lab: Tutorials/style_transfer/tutorial_style_transfer_sample.ipynb</a>\n",
       "### Flaw Detector\n",
       "\n",
       "This example demonstrates how to use a notebook instance and run inference on a pre-recorded video featuring a series of objects moving on a conveyor belt. OpenCV is used for peforming inference and objective is to detect objects and produces an output video indicating the manufacturing flaws.\n",
       "  \n",
       "<a href='python/flaw-detector-python/flawdetector-demo.ipynb' target='_blank' class='big-jupyter-button'>Go to Lab: python/flaw-detector-python/flawdetector-demo.ipynb</a>\n",
       "### Object Size Detection\n",
       "Use a video source such as a camera to capture images and validate an object's size.\n",
       "\n",
       "\n",
       "  \n",
       "<a href='python/object-size-detector-python/ObjectSizeDetector.ipynb' target='_blank' class='big-jupyter-button'>Go to Lab: python/object-size-detector-python/ObjectSizeDetector.ipynb</a>\n",
       "### Object Detection\n",
       "\n",
       "This example introduces the powerful capabilities Intel® Distribution of OpenVINO™ toolkit to perform object detection using a pre-trained deep learning model (mobilenet-ssd) to detect vehicles in a pre-recorded video clip.   \n",
       "<a href='python/object-detection-python/object_detection_demo.ipynb' target='_blank' class='big-jupyter-button'>Go to Lab: python/object-detection-python/object_detection_demo.ipynb</a>\n",
       "### Store Traffic Monitor\n",
       "\n",
       "The Store Traffic Monitor builds on the two previous examples as an advanced use case. This reference sample show how a user can perform object detection and inference on multiple videos simultaneously. In this use case, the application monitors the activity of people inside and outside an imaginary store front and keeps track of product inventory using a pre-trained neural network for detection.\n",
       "  \n",
       "<a href='python/store-traffic-monitor-python/store_traffic_monitor_demo.ipynb' target='_blank' class='big-jupyter-button'>Go to Lab: python/store-traffic-monitor-python/store_traffic_monitor_demo.ipynb</a>\n",
       "### Safety Gear Detection Sample\n",
       "\n",
       "The Safety Gear Detection Sample is another demonstration of performing object detection in a industrial/safety use-case. The sample presents a video frame-by-frame to the Inference Engine (IE) which subsequently uses an optimized trained neural network, mobilenet-ssd, to detect people and their safety gear.   \n",
       "<a href='python/safety-gear-detection-python/safety_gear_detection.ipynb' target='_blank' class='big-jupyter-button'>Go to Lab: python/safety-gear-detection-python/safety_gear_detection.ipynb</a>\n",
       "### OCR- Optical Character Recognition Sample\n",
       "\n",
       "The OCR Sample is the demonstration of Intel® Distribution of OpenVINO™ toolkit to perform Optical Character Recognition using LSTM Long Short-term Memory which is a Convolutional Recurrent Neural Network architecture for deep learning. The sample recognizes words in a sample JPEG file  \n",
       "<a href='python/OCR-usingLSTM-python/OCR.ipynb' target='_blank' class='big-jupyter-button'>Go to Lab: python/OCR-usingLSTM-python/OCR.ipynb</a>\n",
       "### Healthcare application - Pneumonia Classification Sample\n",
       "\n",
       "This reference example showcases a healthcare application performing pneumonia classification on X-ray images, it demonstrates the method of Class Activation Maps with OpenVINO, it also shows with the help of heatmap which regions the network looked to make its choice.\n",
       "  \n",
       "<a href='python/pneumonia-classification/classification_pneumonia.ipynb' target='_blank' class='big-jupyter-button'>Go to Lab: python/pneumonia-classification/classification_pneumonia.ipynb</a>\n",
       "### Intruder Detector\n",
       "\n",
       "Build an application that alerts you when someone enters a restricted area. Learn how to use models for multiclass object detection.\n",
       "  \n",
       "<a href='python/intruder-detector-python/intruder-detector-jupyter.ipynb' target='_blank' class='big-jupyter-button'>Go to Lab: python/intruder-detector-python/intruder-detector-jupyter.ipynb</a>\n",
       "### People Counter System\n",
       "\n",
       "Create a smart video application using the Intel Distribution of OpenVINO toolkit. The toolkit uses models and inference to run single-class object detection.\n",
       "  \n",
       "<a href='python/people-counter-python/people_counter.ipynb' target='_blank' class='big-jupyter-button'>Go to Lab: python/people-counter-python/people_counter.ipynb</a>\n",
       "### Restricted Zone Notifier\n",
       "\n",
       "Secure work areas and send alerts if someone enters the restricted space.\n",
       "  \n",
       "<a href='python/restricted-zone-notifier-python/restricted_zone_notifier.ipynb' target='_blank' class='big-jupyter-button'>Go to Lab: python/restricted-zone-notifier-python/restricted_zone_notifier.ipynb</a>\n",
       "### Shopper Gaze Monitor\n",
       "\n",
       "Build a solution to analyze customer expressions and reactions to product advertising collateral that is positioned on retail shelves.\n",
       "  \n",
       "<a href='python/shopper-gaze-monitor-python/shopper_gaze_monitor.ipynb' target='_blank' class='big-jupyter-button'>Go to Lab: python/shopper-gaze-monitor-python/shopper_gaze_monitor.ipynb</a>\n"
      ],
      "text/plain": [
       "<IPython.core.display.Markdown object>"
      ]
     },
     "metadata": {},
     "output_type": "display_data"
    },
    {
     "data": {
      "application/javascript": [
       "IPython.notebook.set_autosave_interval(0)"
      ]
     },
     "metadata": {},
     "output_type": "display_data"
    },
    {
     "name": "stdout",
     "output_type": "stream",
     "text": [
      "Autosave disabled\n"
     ]
    }
   ],
   "source": [
    "from demoTools.catalog import DemoCatalog\n",
    "cat = DemoCatalog('demoTools/OpenVINO_IoT_Examples_Python.json')\n",
    "cat.ShowRepositoryControls()\n",
    "cat.ShowCatalog()\n",
    "%autosave 0"
   ]
  },
  {
   "cell_type": "code",
   "execution_count": null,
   "metadata": {},
   "outputs": [],
   "source": []
  },
  {
   "cell_type": "code",
   "execution_count": null,
   "metadata": {},
   "outputs": [],
   "source": []
  }
 ],
 "metadata": {
  "kernelspec": {
   "display_name": "Python 3",
   "language": "python",
   "name": "python3"
  },
  "language_info": {
   "codemirror_mode": {
    "name": "ipython",
    "version": 3
   },
   "file_extension": ".py",
   "mimetype": "text/x-python",
   "name": "python",
   "nbconvert_exporter": "python",
   "pygments_lexer": "ipython3",
   "version": "3.6.8"
  }
 },
 "nbformat": 4,
 "nbformat_minor": 2
}
